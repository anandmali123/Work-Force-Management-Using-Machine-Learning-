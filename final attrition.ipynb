{
 "cells": [
  {
   "cell_type": "code",
   "execution_count": 1,
   "id": "fcec327e",
   "metadata": {},
   "outputs": [],
   "source": [
    "import pandas as pd\n",
    "from sklearn.model_selection import train_test_split, GridSearchCV\n",
    "from sklearn.ensemble import RandomForestClassifier\n",
    "from sklearn.metrics import accuracy_score, classification_report\n",
    "from sklearn.preprocessing import LabelEncoder"
   ]
  },
  {
   "cell_type": "code",
   "execution_count": 2,
   "id": "3bc1103e",
   "metadata": {},
   "outputs": [],
   "source": [
    "dataset = pd.read_csv(\"finattrition.csv\")\n",
    "dataset.drop('Unnamed: 0',axis=1,inplace=True)"
   ]
  },
  {
   "cell_type": "code",
   "execution_count": 3,
   "id": "75404f8b",
   "metadata": {},
   "outputs": [
    {
     "name": "stdout",
     "output_type": "stream",
     "text": [
      "<class 'pandas.core.frame.DataFrame'>\n",
      "RangeIndex: 1470 entries, 0 to 1469\n",
      "Data columns (total 25 columns):\n",
      " #   Column                        Non-Null Count  Dtype \n",
      "---  ------                        --------------  ----- \n",
      " 0   Age                           1470 non-null   int64 \n",
      " 1   Attrition                     1470 non-null   object\n",
      " 2   BusinessTravelFrequency       1470 non-null   object\n",
      " 3   DistanceFromHome              1470 non-null   int64 \n",
      " 4   EmpEducationLevel             1470 non-null   int64 \n",
      " 5   EmpID                         1470 non-null   int64 \n",
      " 6   Gender                        1470 non-null   object\n",
      " 7   EmpJobInvolvement             1470 non-null   int64 \n",
      " 8   EmpJobLevel                   1470 non-null   int64 \n",
      " 9   JobSatisfaction               1470 non-null   int64 \n",
      " 10  MaritalStatus                 1470 non-null   object\n",
      " 11  MonthlyIncome                 1470 non-null   int64 \n",
      " 12  NumCompaniesWorked            1470 non-null   int64 \n",
      " 13  OverTime                      1470 non-null   object\n",
      " 14  EmpLastSalaryHikePercent      1470 non-null   int64 \n",
      " 15  PerformanceRating             1470 non-null   int64 \n",
      " 16  EmpRelationshipSatisfaction   1470 non-null   int64 \n",
      " 17  StockOptionLevel              1470 non-null   int64 \n",
      " 18  TotalWorkExperience           1470 non-null   int64 \n",
      " 19  TrainingTime                  1470 non-null   int64 \n",
      " 20  EmpWorkLifeBalance            1470 non-null   int64 \n",
      " 21  ExperienceYearsAtThisCompany  1470 non-null   int64 \n",
      " 22  ExperienceYearsInCurrentRole  1470 non-null   int64 \n",
      " 23  YearsSinceLastPromotion       1470 non-null   int64 \n",
      " 24  YearsWithCurrManager          1470 non-null   int64 \n",
      "dtypes: int64(20), object(5)\n",
      "memory usage: 287.2+ KB\n"
     ]
    }
   ],
   "source": [
    "dataset.info()"
   ]
  },
  {
   "cell_type": "code",
   "execution_count": 4,
   "id": "5fa5acb7",
   "metadata": {},
   "outputs": [],
   "source": [
    "label_encoder = LabelEncoder()\n",
    "categorical_columns = ['BusinessTravelFrequency', 'Gender', 'MaritalStatus', 'OverTime']\n",
    "for column in categorical_columns:\n",
    "    dataset[column] = label_encoder.fit_transform(dataset[column])"
   ]
  },
  {
   "cell_type": "code",
   "execution_count": 5,
   "id": "634bdbba",
   "metadata": {},
   "outputs": [],
   "source": [
    "y = dataset.iloc[:, 1]\n",
    "X = dataset.drop(['Attrition','EmpID'], axis = 1)"
   ]
  },
  {
   "cell_type": "code",
   "execution_count": 6,
   "id": "5ae898ac",
   "metadata": {},
   "outputs": [],
   "source": [
    "lb = LabelEncoder()\n",
    "y = lb.fit_transform(y)"
   ]
  },
  {
   "cell_type": "code",
   "execution_count": 7,
   "id": "fb9121b6",
   "metadata": {},
   "outputs": [
    {
     "name": "stdout",
     "output_type": "stream",
     "text": [
      "<class 'pandas.core.frame.DataFrame'>\n",
      "RangeIndex: 1470 entries, 0 to 1469\n",
      "Data columns (total 25 columns):\n",
      " #   Column                        Non-Null Count  Dtype \n",
      "---  ------                        --------------  ----- \n",
      " 0   Age                           1470 non-null   int64 \n",
      " 1   Attrition                     1470 non-null   object\n",
      " 2   BusinessTravelFrequency       1470 non-null   int32 \n",
      " 3   DistanceFromHome              1470 non-null   int64 \n",
      " 4   EmpEducationLevel             1470 non-null   int64 \n",
      " 5   EmpID                         1470 non-null   int64 \n",
      " 6   Gender                        1470 non-null   int32 \n",
      " 7   EmpJobInvolvement             1470 non-null   int64 \n",
      " 8   EmpJobLevel                   1470 non-null   int64 \n",
      " 9   JobSatisfaction               1470 non-null   int64 \n",
      " 10  MaritalStatus                 1470 non-null   int32 \n",
      " 11  MonthlyIncome                 1470 non-null   int64 \n",
      " 12  NumCompaniesWorked            1470 non-null   int64 \n",
      " 13  OverTime                      1470 non-null   int32 \n",
      " 14  EmpLastSalaryHikePercent      1470 non-null   int64 \n",
      " 15  PerformanceRating             1470 non-null   int64 \n",
      " 16  EmpRelationshipSatisfaction   1470 non-null   int64 \n",
      " 17  StockOptionLevel              1470 non-null   int64 \n",
      " 18  TotalWorkExperience           1470 non-null   int64 \n",
      " 19  TrainingTime                  1470 non-null   int64 \n",
      " 20  EmpWorkLifeBalance            1470 non-null   int64 \n",
      " 21  ExperienceYearsAtThisCompany  1470 non-null   int64 \n",
      " 22  ExperienceYearsInCurrentRole  1470 non-null   int64 \n",
      " 23  YearsSinceLastPromotion       1470 non-null   int64 \n",
      " 24  YearsWithCurrManager          1470 non-null   int64 \n",
      "dtypes: int32(4), int64(20), object(1)\n",
      "memory usage: 264.3+ KB\n"
     ]
    }
   ],
   "source": [
    "dataset.info()"
   ]
  },
  {
   "cell_type": "code",
   "execution_count": 8,
   "id": "4a0db1b5",
   "metadata": {},
   "outputs": [],
   "source": [
    "X_train, X_test, y_train, y_test, names_train, names_test = train_test_split(\n",
    "    X, y, dataset['EmpID'], test_size=0.2, random_state=42\n",
    ")"
   ]
  },
  {
   "cell_type": "code",
   "execution_count": 9,
   "id": "022e6538",
   "metadata": {},
   "outputs": [],
   "source": [
    "model = RandomForestClassifier(max_depth=None, min_samples_leaf=1, min_samples_split=2, n_estimators=50, random_state=42)\n",
    "model.fit(X_train, y_train)\n",
    "y_pred = model.predict(X_test)"
   ]
  },
  {
   "cell_type": "code",
   "execution_count": 10,
   "id": "0fa9732a",
   "metadata": {},
   "outputs": [
    {
     "name": "stdout",
     "output_type": "stream",
     "text": [
      "Accuracy: 0.87\n",
      "Classification Report:\n",
      "               precision    recall  f1-score   support\n",
      "\n",
      "           0       0.88      0.99      0.93       255\n",
      "           1       0.57      0.10      0.17        39\n",
      "\n",
      "    accuracy                           0.87       294\n",
      "   macro avg       0.72      0.55      0.55       294\n",
      "weighted avg       0.84      0.87      0.83       294\n",
      "\n"
     ]
    }
   ],
   "source": [
    "accuracy1 = accuracy_score(y_test, y_pred)\n",
    "classification_rep = classification_report(y_test, y_pred)\n",
    "print(f'Accuracy: {accuracy1:.2f}')\n",
    "print(\"Classification Report:\\n\", classification_rep)"
   ]
  },
  {
   "cell_type": "markdown",
   "id": "566616aa",
   "metadata": {},
   "source": [
    "from sklearn.linear_model import LogisticRegression\n",
    "model1=LogisticRegression()\n",
    "y_pred=model1.predict(X_test)\n",
    "accuracy2 = accuracy_score(y_test, y_pred)\n",
    "classification_rep = classification_report(y_test, y_pred)"
   ]
  },
  {
   "cell_type": "markdown",
   "id": "ca40da43",
   "metadata": {},
   "source": [
    "print(f\"Accuracy: {accuracy2:.2f}\")\n",
    "print(\"Classification Report:\\n\", classification_rep)"
   ]
  },
  {
   "cell_type": "markdown",
   "id": "c7c91564",
   "metadata": {},
   "source": [
    "import matplotlib.pyplot as plt\n",
    "models = ['Random Forest','Logistic Regression']\n",
    "accuracies=[accuracy1,accuracy2]\n",
    "plt.bar(models, accuracies, color=['blue', 'green'])\n",
    "plt.ylabel('Accuracy')\n",
    "plt.title('Accuracy Comparison: Logistic Regression vs. Random Forest')\n",
    "plt.show()"
   ]
  },
  {
   "cell_type": "markdown",
   "id": "47df755c",
   "metadata": {},
   "source": [
    "from sklearn.metrics import roc_curve, auc\n",
    "\n",
    "logistic_model = LogisticRegression()\n",
    "logistic_model.fit(X_train,y_train)\n",
    "rf_model = RandomForestClassifier(max_depth=None, min_samples_leaf=1, min_samples_split=2, n_estimators=50, random_state=42)\n",
    "rf_model.fit(X_train, y_train)\n",
    "\n",
    "y_pred_logistic = logistic_model.predict_proba(X_test)[:, 1]\n",
    "y_pred_rf = rf_model.predict_proba(X_test)[:, 1]\n",
    "\n",
    "# Compute ROC curve and AUC\n",
    "fpr_logistic, tpr_logistic, _ = roc_curve(y_test, y_pred_logistic)\n",
    "roc_auc_logistic = auc(fpr_logistic, tpr_logistic)\n",
    "\n",
    "fpr_rf, tpr_rf, _ = roc_curve(y_test, y_pred_rf)\n",
    "roc_auc_rf = auc(fpr_rf, tpr_rf)\n",
    "\n",
    "# Plot ROC curves\n",
    "plt.figure(figsize=(8, 6))\n",
    "plt.plot(fpr_logistic, tpr_logistic, color='blue', lw=2, label=f'Logistic Regression (AUC = {roc_auc_logistic:.2f})')\n",
    "plt.plot(fpr_rf, tpr_rf, color='green', lw=2, label=f'Random Forest (AUC = {roc_auc_rf:.2f})')\n",
    "plt.plot([0, 1], [0, 1], color='gray', lw=1, linestyle='--', label='Random Guess')\n",
    "\n",
    "plt.xlabel('False Positive Rate')\n",
    "plt.ylabel('True Positive Rate')\n",
    "plt.title('ROC Curve Comparison: Logistic Regression vs. Random Forest')\n",
    "plt.legend(loc='lower right')\n",
    "plt.show()"
   ]
  },
  {
   "cell_type": "code",
   "execution_count": 11,
   "id": "b7acd69e",
   "metadata": {},
   "outputs": [],
   "source": [
    "predictions_df = pd.DataFrame({\n",
    "    'EmpID': names_test,\n",
    "    'Attrition_Prediction': y_pred\n",
    "})"
   ]
  },
  {
   "cell_type": "code",
   "execution_count": 12,
   "id": "44faa4df",
   "metadata": {},
   "outputs": [
    {
     "name": "stdout",
     "output_type": "stream",
     "text": [
      "363     485\n",
      "892    1248\n",
      "777    1079\n",
      "23       30\n",
      "416     556\n",
      "422     566\n",
      "921    1286\n",
      "Name: EmpID, dtype: int64\n"
     ]
    }
   ],
   "source": [
    "attrition_predictions = predictions_df[predictions_df['Attrition_Prediction'] == 1]['EmpID']\n",
    "\n",
    "print(attrition_predictions)"
   ]
  },
  {
   "cell_type": "code",
   "execution_count": 13,
   "id": "4b1546d1",
   "metadata": {},
   "outputs": [
    {
     "name": "stderr",
     "output_type": "stream",
     "text": [
      "c:\\Users\\Pallavi Wadkar\\AppData\\Local\\Programs\\Python\\Python38\\lib\\site-packages\\sklearn\\linear_model\\_logistic.py:763: ConvergenceWarning: lbfgs failed to converge (status=1):\n",
      "STOP: TOTAL NO. of ITERATIONS REACHED LIMIT.\n",
      "\n",
      "Increase the number of iterations (max_iter) or scale the data as shown in:\n",
      "    https://scikit-learn.org/stable/modules/preprocessing.html\n",
      "Please also refer to the documentation for alternative solver options:\n",
      "    https://scikit-learn.org/stable/modules/linear_model.html#logistic-regression\n",
      "  n_iter_i = _check_optimize_result(\n"
     ]
    }
   ],
   "source": [
    "from sklearn.model_selection import train_test_split\n",
    "from sklearn.ensemble import GradientBoostingClassifier\n",
    "from sklearn.linear_model import LogisticRegression\n",
    "from sklearn.svm import SVC\n",
    "from sklearn.tree import DecisionTreeClassifier\n",
    "from sklearn.metrics import accuracy_score, roc_auc_score, roc_curve\n",
    "\n",
    "classifiers = {\n",
    "    \"Random Forest\":RandomForestClassifier(max_depth=None, min_samples_leaf=1, min_samples_split=2, n_estimators=50, random_state=42),\n",
    "    \"Logistic Regression\": LogisticRegression(),\n",
    "    \"SVM\": SVC(probability=True),\n",
    "    \"Decision Tree\": DecisionTreeClassifier()\n",
    "}\n",
    "\n",
    "# Train and evaluate each classifier\n",
    "results = {\"Algorithm\": [], \"Accuracy\": [], \"ROC AUC\": []}\n",
    "for name, clf in classifiers.items():\n",
    "    clf.fit(X_train, y_train)\n",
    "    y_pred = clf.predict(X_test)\n",
    "    accuracy = accuracy_score(y_test, y_pred)\n",
    "    roc_auc = roc_auc_score(y_test, clf.predict_proba(X_test)[:, 1])\n",
    "    results[\"Algorithm\"].append(name)\n",
    "    results[\"Accuracy\"].append(accuracy)\n",
    "    results[\"ROC AUC\"].append(roc_auc)\n",
    "\n",
    "# Convert results to a DataFrame\n",
    "results_df = pd.DataFrame(results)"
   ]
  },
  {
   "cell_type": "code",
   "execution_count": 14,
   "id": "80f820bd",
   "metadata": {},
   "outputs": [
    {
     "data": {
      "text/html": [
       "<div>\n",
       "<style scoped>\n",
       "    .dataframe tbody tr th:only-of-type {\n",
       "        vertical-align: middle;\n",
       "    }\n",
       "\n",
       "    .dataframe tbody tr th {\n",
       "        vertical-align: top;\n",
       "    }\n",
       "\n",
       "    .dataframe thead th {\n",
       "        text-align: right;\n",
       "    }\n",
       "</style>\n",
       "<table border=\"1\" class=\"dataframe\">\n",
       "  <thead>\n",
       "    <tr style=\"text-align: right;\">\n",
       "      <th></th>\n",
       "      <th>Algorithm</th>\n",
       "      <th>Accuracy</th>\n",
       "      <th>ROC AUC</th>\n",
       "    </tr>\n",
       "  </thead>\n",
       "  <tbody>\n",
       "    <tr>\n",
       "      <th>0</th>\n",
       "      <td>Random Forest</td>\n",
       "      <td>0.870748</td>\n",
       "      <td>0.717044</td>\n",
       "    </tr>\n",
       "    <tr>\n",
       "      <th>1</th>\n",
       "      <td>Logistic Regression</td>\n",
       "      <td>0.853741</td>\n",
       "      <td>0.702363</td>\n",
       "    </tr>\n",
       "    <tr>\n",
       "      <th>2</th>\n",
       "      <td>SVM</td>\n",
       "      <td>0.867347</td>\n",
       "      <td>0.470588</td>\n",
       "    </tr>\n",
       "    <tr>\n",
       "      <th>3</th>\n",
       "      <td>Decision Tree</td>\n",
       "      <td>0.782313</td>\n",
       "      <td>0.581297</td>\n",
       "    </tr>\n",
       "  </tbody>\n",
       "</table>\n",
       "</div>"
      ],
      "text/plain": [
       "             Algorithm  Accuracy   ROC AUC\n",
       "0        Random Forest  0.870748  0.717044\n",
       "1  Logistic Regression  0.853741  0.702363\n",
       "2                  SVM  0.867347  0.470588\n",
       "3        Decision Tree  0.782313  0.581297"
      ]
     },
     "execution_count": 14,
     "metadata": {},
     "output_type": "execute_result"
    }
   ],
   "source": [
    "results_df"
   ]
  },
  {
   "cell_type": "code",
   "execution_count": 15,
   "id": "6b26810d",
   "metadata": {},
   "outputs": [],
   "source": [
    "import pickle\n",
    "file=open('attrition_model.pkl','wb')\n",
    "pickle.dump(model,file)"
   ]
  },
  {
   "cell_type": "code",
   "execution_count": null,
   "id": "15bb6280",
   "metadata": {},
   "outputs": [],
   "source": []
  }
 ],
 "metadata": {
  "kernelspec": {
   "display_name": "Python 3 (ipykernel)",
   "language": "python",
   "name": "python3"
  },
  "language_info": {
   "codemirror_mode": {
    "name": "ipython",
    "version": 3
   },
   "file_extension": ".py",
   "mimetype": "text/x-python",
   "name": "python",
   "nbconvert_exporter": "python",
   "pygments_lexer": "ipython3",
   "version": "3.8.0"
  }
 },
 "nbformat": 4,
 "nbformat_minor": 5
}
